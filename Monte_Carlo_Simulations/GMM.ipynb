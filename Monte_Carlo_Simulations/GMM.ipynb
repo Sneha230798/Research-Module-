{
 "cells": [
  {
   "cell_type": "code",
   "execution_count": 1,
   "metadata": {},
   "outputs": [],
   "source": [
    "from monte_carlo_ar1 import (generate_staggered_law_ar1_data)\n",
    "import numpy as np\n",
    "import pandas as pd\n",
    "import statsmodels.api as sm"
   ]
  },
  {
   "cell_type": "code",
   "execution_count": 2,
   "metadata": {},
   "outputs": [],
   "source": [
    "N = 50\n",
    "T = 20\n",
    "rho = 0.2\n",
    "num_individuals = 20\n",
    "\n",
    "data = generate_staggered_law_ar1_data(N,T,rho,num_individuals)"
   ]
  },
  {
   "cell_type": "code",
   "execution_count": 3,
   "metadata": {},
   "outputs": [
    {
     "data": {
      "text/plain": [
       "Index(['state', 'individual', 'time', 'value', 'state_2', 'state_3', 'state_4',\n",
       "       'state_5', 'state_6', 'state_7', 'state_8', 'state_9', 'state_10',\n",
       "       'state_11', 'state_12', 'state_13', 'state_14', 'state_15', 'state_16',\n",
       "       'state_17', 'state_18', 'state_19', 'state_20', 'state_21', 'state_22',\n",
       "       'state_23', 'state_24', 'state_25', 'state_26', 'state_27', 'state_28',\n",
       "       'state_29', 'state_30', 'state_31', 'state_32', 'state_33', 'state_34',\n",
       "       'state_35', 'state_36', 'state_37', 'state_38', 'state_39', 'state_40',\n",
       "       'state_41', 'state_42', 'state_43', 'state_44', 'state_45', 'state_46',\n",
       "       'state_47', 'state_48', 'state_49', 'state_50', 'time_1', 'time_2',\n",
       "       'time_3', 'time_4', 'time_5', 'time_6', 'time_7', 'time_8', 'time_9',\n",
       "       'time_10', 'time_11', 'time_12', 'time_13', 'time_14', 'time_15',\n",
       "       'time_16', 'time_17', 'time_18', 'time_19', 'TREATMENT'],\n",
       "      dtype='object')"
      ]
     },
     "execution_count": 3,
     "metadata": {},
     "output_type": "execute_result"
    }
   ],
   "source": [
    "data.columns"
   ]
  },
  {
   "cell_type": "code",
   "execution_count": 10,
   "metadata": {},
   "outputs": [
    {
     "name": "stdout",
     "output_type": "stream",
     "text": [
      "Collecting linearmodels\n",
      "  Obtaining dependency information for linearmodels from https://files.pythonhosted.org/packages/c8/19/be62804f9e7ffc1ca5b75ef1459ffe5834fb39cd39c95642ce70bc1702fb/linearmodels-5.3-cp311-cp311-win_amd64.whl.metadata\n",
      "  Downloading linearmodels-5.3-cp311-cp311-win_amd64.whl.metadata (8.4 kB)\n",
      "Requirement already satisfied: numpy>=1.19.0 in c:\\users\\biswajit palit\\anaconda3\\lib\\site-packages (from linearmodels) (1.24.3)\n",
      "Requirement already satisfied: pandas>=1.1.0 in c:\\users\\biswajit palit\\anaconda3\\lib\\site-packages (from linearmodels) (2.1.4)\n",
      "Requirement already satisfied: scipy>=1.5.0 in c:\\users\\biswajit palit\\anaconda3\\lib\\site-packages (from linearmodels) (1.11.3)\n",
      "Requirement already satisfied: statsmodels>=0.12.0 in c:\\users\\biswajit palit\\anaconda3\\lib\\site-packages (from linearmodels) (0.14.0)\n",
      "Requirement already satisfied: mypy-extensions>=0.4 in c:\\users\\biswajit palit\\anaconda3\\lib\\site-packages (from linearmodels) (1.0.0)\n",
      "Collecting Cython>=0.29.34 (from linearmodels)\n",
      "  Obtaining dependency information for Cython>=0.29.34 from https://files.pythonhosted.org/packages/60/d0/30f3ecd4dcafa87cd024a2687a6be7aa14f94d75c040192f8f8629ef8ad8/Cython-3.0.7-cp311-cp311-win_amd64.whl.metadata\n",
      "  Downloading Cython-3.0.7-cp311-cp311-win_amd64.whl.metadata (3.2 kB)\n",
      "Collecting pyhdfe>=0.1 (from linearmodels)\n",
      "  Obtaining dependency information for pyhdfe>=0.1 from https://files.pythonhosted.org/packages/2f/51/cb006fbc08c32f161035fb19ca718250eb5f6d0692ea6dcc1e62c3e556a2/pyhdfe-0.2.0-py3-none-any.whl.metadata\n",
      "  Downloading pyhdfe-0.2.0-py3-none-any.whl.metadata (4.0 kB)\n",
      "Collecting formulaic>=0.6.5 (from linearmodels)\n",
      "  Obtaining dependency information for formulaic>=0.6.5 from https://files.pythonhosted.org/packages/ae/f0/ff275c0009f0037c381c6e3a94049b9792df7d7f437c5ccd0c7aefca5f22/formulaic-0.6.6-py3-none-any.whl.metadata\n",
      "  Downloading formulaic-0.6.6-py3-none-any.whl.metadata (6.0 kB)\n",
      "Collecting setuptools-scm[toml]<8.0.0,>=7.0.0 (from linearmodels)\n",
      "  Downloading setuptools_scm-7.1.0-py3-none-any.whl (43 kB)\n",
      "     ---------------------------------------- 0.0/43.8 kB ? eta -:--:--\n",
      "     ---------------------------- ----------- 30.7/43.8 kB 1.3 MB/s eta 0:00:01\n",
      "     ---------------------------------------- 43.8/43.8 kB 1.1 MB/s eta 0:00:00\n",
      "Collecting astor>=0.8 (from formulaic>=0.6.5->linearmodels)\n",
      "  Downloading astor-0.8.1-py2.py3-none-any.whl (27 kB)\n",
      "Collecting interface-meta>=1.2.0 (from formulaic>=0.6.5->linearmodels)\n",
      "  Downloading interface_meta-1.3.0-py3-none-any.whl (14 kB)\n",
      "Requirement already satisfied: typing-extensions>=4.2.0 in c:\\users\\biswajit palit\\anaconda3\\lib\\site-packages (from formulaic>=0.6.5->linearmodels) (4.7.1)\n",
      "Requirement already satisfied: wrapt>=1.0 in c:\\users\\biswajit palit\\anaconda3\\lib\\site-packages (from formulaic>=0.6.5->linearmodels) (1.14.1)\n",
      "Requirement already satisfied: python-dateutil>=2.8.2 in c:\\users\\biswajit palit\\anaconda3\\lib\\site-packages (from pandas>=1.1.0->linearmodels) (2.8.2)\n",
      "Requirement already satisfied: pytz>=2020.1 in c:\\users\\biswajit palit\\anaconda3\\lib\\site-packages (from pandas>=1.1.0->linearmodels) (2023.3.post1)\n",
      "Requirement already satisfied: tzdata>=2022.1 in c:\\users\\biswajit palit\\anaconda3\\lib\\site-packages (from pandas>=1.1.0->linearmodels) (2023.3)\n",
      "Requirement already satisfied: packaging>=20.0 in c:\\users\\biswajit palit\\anaconda3\\lib\\site-packages (from setuptools-scm[toml]<8.0.0,>=7.0.0->linearmodels) (23.1)\n",
      "Requirement already satisfied: setuptools in c:\\users\\biswajit palit\\anaconda3\\lib\\site-packages (from setuptools-scm[toml]<8.0.0,>=7.0.0->linearmodels) (68.0.0)\n",
      "Requirement already satisfied: patsy>=0.5.2 in c:\\users\\biswajit palit\\anaconda3\\lib\\site-packages (from statsmodels>=0.12.0->linearmodels) (0.5.3)\n",
      "Requirement already satisfied: six in c:\\users\\biswajit palit\\anaconda3\\lib\\site-packages (from patsy>=0.5.2->statsmodels>=0.12.0->linearmodels) (1.16.0)\n",
      "Downloading linearmodels-5.3-cp311-cp311-win_amd64.whl (2.0 MB)\n",
      "   ---------------------------------------- 0.0/2.0 MB ? eta -:--:--\n",
      "   --- ------------------------------------ 0.2/2.0 MB 3.5 MB/s eta 0:00:01\n",
      "   --------- ------------------------------ 0.5/2.0 MB 4.7 MB/s eta 0:00:01\n",
      "   -------------------- ------------------- 1.0/2.0 MB 7.0 MB/s eta 0:00:01\n",
      "   ------------------------------------- -- 1.9/2.0 MB 10.8 MB/s eta 0:00:01\n",
      "   ---------------------------------------- 2.0/2.0 MB 10.5 MB/s eta 0:00:00\n",
      "Downloading Cython-3.0.7-cp311-cp311-win_amd64.whl (2.8 MB)\n",
      "   ---------------------------------------- 0.0/2.8 MB ? eta -:--:--\n",
      "   ------------------- -------------------- 1.4/2.8 MB 29.2 MB/s eta 0:00:01\n",
      "   ---------------------------------------  2.7/2.8 MB 29.3 MB/s eta 0:00:01\n",
      "   ---------------------------------------- 2.8/2.8 MB 25.4 MB/s eta 0:00:00\n",
      "Downloading formulaic-0.6.6-py3-none-any.whl (91 kB)\n",
      "   ---------------------------------------- 0.0/91.0 kB ? eta -:--:--\n",
      "   ---------------------------------------- 91.0/91.0 kB ? eta 0:00:00\n",
      "Downloading pyhdfe-0.2.0-py3-none-any.whl (19 kB)\n",
      "Installing collected packages: setuptools-scm, interface-meta, Cython, astor, pyhdfe, formulaic, linearmodels\n",
      "Successfully installed Cython-3.0.7 astor-0.8.1 formulaic-0.6.6 interface-meta-1.3.0 linearmodels-5.3 pyhdfe-0.2.0 setuptools-scm-7.1.0\n"
     ]
    },
    {
     "name": "stderr",
     "output_type": "stream",
     "text": [
      "'DOSKEY' is not recognized as an internal or external command,\n",
      "operable program or batch file.\n",
      "ERROR: pip's dependency resolver does not currently take into account all the packages that are installed. This behaviour is the source of the following dependency conflicts.\n",
      "tables 3.8.0 requires blosc2~=2.0.0, which is not installed.\n"
     ]
    }
   ],
   "source": [
    "!pip install linearmodels\n"
   ]
  },
  {
   "cell_type": "code",
   "execution_count": 11,
   "metadata": {},
   "outputs": [],
   "source": [
    "from linearmodels.iv import IVGMM"
   ]
  },
  {
   "cell_type": "code",
   "execution_count": 15,
   "metadata": {},
   "outputs": [
    {
     "ename": "TypeError",
     "evalue": "IVGMM.__init__() missing 2 required positional arguments: 'endog' and 'instruments'",
     "output_type": "error",
     "traceback": [
      "\u001b[1;31m---------------------------------------------------------------------------\u001b[0m",
      "\u001b[1;31mTypeError\u001b[0m                                 Traceback (most recent call last)",
      "Cell \u001b[1;32mIn[15], line 58\u001b[0m\n\u001b[0;32m     55\u001b[0m num_individuals \u001b[38;5;241m=\u001b[39m \u001b[38;5;241m20\u001b[39m\n\u001b[0;32m     56\u001b[0m data \u001b[38;5;241m=\u001b[39m generate_staggered_law_ar1_data(N,T,rho,num_individuals)\n\u001b[1;32m---> 58\u001b[0m result_joint_gmm \u001b[38;5;241m=\u001b[39m joint_gmm_regression(data)\n\u001b[0;32m     59\u001b[0m \u001b[38;5;28mprint\u001b[39m(result_joint_gmm\u001b[38;5;241m.\u001b[39msummary())\n",
      "Cell \u001b[1;32mIn[15], line 46\u001b[0m, in \u001b[0;36mjoint_gmm_regression\u001b[1;34m(data)\u001b[0m\n\u001b[0;32m     43\u001b[0m moments_equations \u001b[38;5;241m=\u001b[39m [moment_conditions_equation_1, moment_conditions_equation_2]\n\u001b[0;32m     45\u001b[0m \u001b[38;5;66;03m# Estimate beta using Joint GMM\u001b[39;00m\n\u001b[1;32m---> 46\u001b[0m gmm_model_joint \u001b[38;5;241m=\u001b[39m IVGMM(initial_beta, moments_equations,  args\u001b[38;5;241m=\u001b[39m(data,))\n\u001b[0;32m     47\u001b[0m result_joint_gmm \u001b[38;5;241m=\u001b[39m gmm_model_joint\u001b[38;5;241m.\u001b[39mfit()\n\u001b[0;32m     49\u001b[0m \u001b[38;5;28;01mreturn\u001b[39;00m result_joint_gmm\n",
      "\u001b[1;31mTypeError\u001b[0m: IVGMM.__init__() missing 2 required positional arguments: 'endog' and 'instruments'"
     ]
    }
   ],
   "source": [
    "def joint_gmm_regression(data):\n",
    "\n",
    "    # Equation 1\n",
    "    equation_1_formula = \"value ~ state_2 + state_3 + state_4 + state_5 + state_6 + state_7 + state_8 + state_9 + state_10 + state_11 + state_12 + state_13 + state_14 + state_15 + state_16 + state_17 + state_18 + state_19 + state_20 + state_21 + state_22 + state_23 + state_24 + state_25 + state_26 + state_27 + state_28 + state_29 + state_30 + state_31 + state_32 + state_33 + state_34 + state_35 + state_36 + state_37 + state_38 + state_39 + state_40 + state_41 + state_42 + state_43 + state_44 + state_45 + state_46 + state_47 + state_48 + state_49 + state_50 + time_1 + time_2 + time_3 + time_4 + time_5 + time_6 + time_7 + time_8 + time_9 + time_10 + time_11 + time_12 + time_13 + time_14 + time_15 + time_16 + time_17 + time_18 + time_19 + 1\"\n",
    "\n",
    "    # Equation 2\n",
    "    equation_2_formula = 'value ~ state_2 + state_3 + state_4 + state_5 + state_6 + state_7 + state_8 + state_9 + state_10 + state_11 + state_12 + state_13 + state_14 + state_15 + state_16 + state_17 + state_18 + state_19 + state_20 + state_21 + state_22 + state_23 + state_24 + state_25 + state_26 + state_27 + state_28 + state_29 + state_30 + state_31 + state_32 + state_33 + state_34 + state_35 + state_36 + state_37 + state_38 + state_39 + state_40 + state_41 + state_42 + state_43 + state_44 + state_45 + state_46 + state_47 + state_48 + state_49 + state_50 + time_1 + time_2 + time_3 + time_4 + time_5 + time_6 + time_7 + time_8 + time_9 + time_10 + time_11 + time_12 + time_13 + time_14 + time_15 + time_16 + time_17 + time_18 + time_19 + TREATMENT + 1'\n",
    "\n",
    "    def moment_conditions_equation_1(params, data):\n",
    "        # Extracting beta_state and beta_time from the params\n",
    "        beta_state = params[:50]  # Assuming the first 50 parameters are for state dummies\n",
    "        beta_time = params[50:]  # The remaining parameters are for time dummies\n",
    "\n",
    "        # Extracting state and time dummy variables from the data\n",
    "        state_dummies = data.iloc[:, 2:52].values  # Assuming columns 2 to 51 are state dummy variables\n",
    "        time_dummies = data.iloc[:, 52:72].values  # Assuming columns 52 to 71 are time dummy variables\n",
    "\n",
    "        # Calculating residuals for Equation 1\n",
    "        residuals_equation_1 = data['value'] - np.dot(state_dummies, beta_state) - np.dot(time_dummies, beta_time)\n",
    "\n",
    "        return residuals_equation_1\n",
    "    \n",
    "    def moment_conditions_equation_2(params, data):\n",
    "        # Extracting beta_state, beta_time, and beta_treatment from the params\n",
    "        beta_state = params[:50]  # Assuming the first 50 parameters are for state dummies\n",
    "        beta_time = params[50:70]  # Assuming the next 20 parameters are for time dummies\n",
    "        beta_treatment = params[-1]  # The last parameter is for TREATMENT (including intercept if present)\n",
    "\n",
    "        # Extracting state, time, and treatment dummy variables from the data\n",
    "        state_dummies = data.iloc[:, 2:52].values  # Assuming columns 2 to 51 are state dummy variables\n",
    "        time_dummies = data.iloc[:, 52:72].values  # Assuming columns 52 to 71 are time dummy variables\n",
    "        treatment_dummy = data['TREATMENT'].values\n",
    "\n",
    "    # Calculating residuals for Equation 2\n",
    "        residuals_equation_2 = data['value'] - np.dot(state_dummies, beta_state) - np.dot(time_dummies, beta_time) - beta_treatment * treatment_dummy\n",
    "\n",
    "        return residuals_equation_2\n",
    "    \n",
    "        # Initial guess for beta\n",
    "    initial_beta = np.zeros(71)  # Assuming 50 state dummies, 20 time dummies, and 1 for TREATMENT\n",
    "\n",
    "    # Stack the moment conditions\n",
    "    moments_equations = [moment_conditions_equation_1, moment_conditions_equation_2]\n",
    "\n",
    "    # Estimate beta using Joint GMM\n",
    "    gmm_model_joint = IVGMM(initial_beta, moments_equations,  args=(data,))\n",
    "    result_joint_gmm = gmm_model_joint.fit()\n",
    "\n",
    "    return result_joint_gmm\n",
    "\n",
    "\n",
    "N = 50\n",
    "T = 20\n",
    "rho = 0.2\n",
    "num_individuals = 20\n",
    "data = generate_staggered_law_ar1_data(N,T,rho,num_individuals)\n",
    "\n",
    "result_joint_gmm = joint_gmm_regression(data)\n",
    "print(result_joint_gmm.summary())\n"
   ]
  },
  {
   "cell_type": "code",
   "execution_count": 16,
   "metadata": {},
   "outputs": [
    {
     "ename": "ValueError",
     "evalue": "all the input array dimensions except for the concatenation axis must match exactly, but along dimension 0, the array at index 0 has size 1 and the array at index 1 has size 20000",
     "output_type": "error",
     "traceback": [
      "\u001b[1;31m---------------------------------------------------------------------------\u001b[0m",
      "\u001b[1;31mValueError\u001b[0m                                Traceback (most recent call last)",
      "Cell \u001b[1;32mIn[16], line 73\u001b[0m\n\u001b[0;32m     71\u001b[0m \u001b[38;5;66;03m# Initialize and fit the model\u001b[39;00m\n\u001b[0;32m     72\u001b[0m initial_params \u001b[38;5;241m=\u001b[39m np\u001b[38;5;241m.\u001b[39marray([\u001b[38;5;241m0.1\u001b[39m] \u001b[38;5;241m*\u001b[39m (\u001b[38;5;28mlen\u001b[39m(df[\u001b[38;5;124m'\u001b[39m\u001b[38;5;124mstate\u001b[39m\u001b[38;5;124m'\u001b[39m]\u001b[38;5;241m.\u001b[39munique()) \u001b[38;5;241m+\u001b[39m \u001b[38;5;28mlen\u001b[39m(df[\u001b[38;5;124m'\u001b[39m\u001b[38;5;124mtime\u001b[39m\u001b[38;5;124m'\u001b[39m]\u001b[38;5;241m.\u001b[39munique()) \u001b[38;5;241m+\u001b[39m \u001b[38;5;241m1\u001b[39m) \u001b[38;5;241m*\u001b[39m \u001b[38;5;241m2\u001b[39m)  \u001b[38;5;66;03m# Adjust as necessary\u001b[39;00m\n\u001b[1;32m---> 73\u001b[0m model \u001b[38;5;241m=\u001b[39m TwoStageGMM(endog, exog, instrument1, instrument2)\n\u001b[0;32m     74\u001b[0m result \u001b[38;5;241m=\u001b[39m model\u001b[38;5;241m.\u001b[39mfit(start_params\u001b[38;5;241m=\u001b[39minitial_params)\n\u001b[0;32m     76\u001b[0m \u001b[38;5;66;03m# Display results\u001b[39;00m\n",
      "Cell \u001b[1;32mIn[16], line 22\u001b[0m, in \u001b[0;36mTwoStageGMM.__init__\u001b[1;34m(self, endog, exog, instrument1, instrument2)\u001b[0m\n\u001b[0;32m     20\u001b[0m instrument1_flat \u001b[38;5;241m=\u001b[39m np\u001b[38;5;241m.\u001b[39mcolumn_stack(instrument1)\n\u001b[0;32m     21\u001b[0m \u001b[38;5;66;03m# Prepare the combined instrument matrix\u001b[39;00m\n\u001b[1;32m---> 22\u001b[0m instruments \u001b[38;5;241m=\u001b[39m np\u001b[38;5;241m.\u001b[39mcolumn_stack((instrument1_flat, instrument2))\n\u001b[0;32m     23\u001b[0m \u001b[38;5;28msuper\u001b[39m(TwoStageGMM, \u001b[38;5;28mself\u001b[39m)\u001b[38;5;241m.\u001b[39m\u001b[38;5;21m__init__\u001b[39m(endog, exog, instruments\u001b[38;5;241m=\u001b[39minstruments)\n\u001b[0;32m     24\u001b[0m \u001b[38;5;28mself\u001b[39m\u001b[38;5;241m.\u001b[39minstrument1_flat \u001b[38;5;241m=\u001b[39m instrument1_flat\n",
      "File \u001b[1;32m<__array_function__ internals>:200\u001b[0m, in \u001b[0;36mcolumn_stack\u001b[1;34m(*args, **kwargs)\u001b[0m\n",
      "File \u001b[1;32mc:\\Users\\Biswajit Palit\\anaconda3\\Lib\\site-packages\\numpy\\lib\\shape_base.py:656\u001b[0m, in \u001b[0;36mcolumn_stack\u001b[1;34m(tup)\u001b[0m\n\u001b[0;32m    654\u001b[0m         arr \u001b[38;5;241m=\u001b[39m array(arr, copy\u001b[38;5;241m=\u001b[39m\u001b[38;5;28;01mFalse\u001b[39;00m, subok\u001b[38;5;241m=\u001b[39m\u001b[38;5;28;01mTrue\u001b[39;00m, ndmin\u001b[38;5;241m=\u001b[39m\u001b[38;5;241m2\u001b[39m)\u001b[38;5;241m.\u001b[39mT\n\u001b[0;32m    655\u001b[0m     arrays\u001b[38;5;241m.\u001b[39mappend(arr)\n\u001b[1;32m--> 656\u001b[0m \u001b[38;5;28;01mreturn\u001b[39;00m _nx\u001b[38;5;241m.\u001b[39mconcatenate(arrays, \u001b[38;5;241m1\u001b[39m)\n",
      "File \u001b[1;32m<__array_function__ internals>:200\u001b[0m, in \u001b[0;36mconcatenate\u001b[1;34m(*args, **kwargs)\u001b[0m\n",
      "\u001b[1;31mValueError\u001b[0m: all the input array dimensions except for the concatenation axis must match exactly, but along dimension 0, the array at index 0 has size 1 and the array at index 1 has size 20000"
     ]
    }
   ],
   "source": [
    "import numpy as np\n",
    "import pandas as pd\n",
    "import statsmodels.api as sm\n",
    "from statsmodels.sandbox.regression.gmm import GMM\n",
    "\n",
    "# Assuming df is your DataFrame with 'Y', 'group', 'period', 'D'\n",
    "# 'instrument1' is a list of lists, each sublist is a different instrument for the first equation\n",
    "# 'instrument2' is a list for the second equation\n",
    "\n",
    "N = 50\n",
    "T = 20\n",
    "rho = 0.2\n",
    "num_individuals = 20\n",
    "\n",
    "df = generate_staggered_law_ar1_data(N,T,rho,num_individuals)\n",
    "\n",
    "class TwoStageGMM(GMM):\n",
    "    def __init__(self, endog, exog, instrument1, instrument2):\n",
    "        # Flatten instrument1 list of lists\n",
    "        instrument1_flat = np.column_stack(instrument1)\n",
    "        # Prepare the combined instrument matrix\n",
    "        instruments = np.column_stack((instrument1_flat, instrument2))\n",
    "        super(TwoStageGMM, self).__init__(endog, exog, instruments=instruments)\n",
    "        self.instrument1_flat = instrument1_flat\n",
    "        self.instrument2 = instrument2\n",
    "\n",
    "    def momcond(self, params):\n",
    "        # Unpack parameters for both equations\n",
    "        lambda_g, gamma_p, treatment_effect = params[:len(params)//2]\n",
    "        lambda_g2, gamma_p2, treatment_effect2 = params[len(params)//2:]\n",
    "\n",
    "        # First equation moment conditions\n",
    "        group_dummies = pd.get_dummies(self.exog['state'], drop_first=True)\n",
    "        time_dummies = pd.get_dummies(self.exog['time'], drop_first=True)\n",
    "        err1 = self.endog - (group_dummies @ lambda_g + time_dummies @ gamma_p + self.exog['TREATMENT'] * treatment_effect)\n",
    "        moment1 = err1[:, None] * self.instrument1_flat\n",
    "\n",
    "        # Second equation moment conditions\n",
    "        err2 = self.endog - (group_dummies @ lambda_g2 + time_dummies @ gamma_p2 + self.exog['TREATMENT'] * treatment_effect2)\n",
    "        moment2 = err2[:, None] * self.instrument2[:, None]\n",
    "\n",
    "        return np.column_stack((moment1, moment2))\n",
    "\n",
    "# Prepare the data\n",
    "endog = df['value']\n",
    "exog = df[['state_2', 'state_3', 'state_4',\n",
    "       'state_5', 'state_6', 'state_7', 'state_8', 'state_9', 'state_10',\n",
    "       'state_11', 'state_12', 'state_13', 'state_14', 'state_15', 'state_16',\n",
    "       'state_17', 'state_18', 'state_19', 'state_20', 'state_21', 'state_22',\n",
    "       'state_23', 'state_24', 'state_25', 'state_26', 'state_27', 'state_28',\n",
    "       'state_29', 'state_30', 'state_31', 'state_32', 'state_33', 'state_34',\n",
    "       'state_35', 'state_36', 'state_37', 'state_38', 'state_39', 'state_40',\n",
    "       'state_41', 'state_42', 'state_43', 'state_44', 'state_45', 'state_46',\n",
    "       'state_47', 'state_48', 'state_49', 'state_50', 'time_1', 'time_2',\n",
    "       'time_3', 'time_4', 'time_5', 'time_6', 'time_7', 'time_8', 'time_9',\n",
    "       'time_10', 'time_11', 'time_12', 'time_13', 'time_14', 'time_15',\n",
    "       'time_16', 'time_17', 'time_18', 'time_19', 'TREATMENT']]\n",
    "instrument1 = df[['state_2', 'state_3', 'state_4',\n",
    "       'state_5', 'state_6', 'state_7', 'state_8', 'state_9', 'state_10',\n",
    "       'state_11', 'state_12', 'state_13', 'state_14', 'state_15', 'state_16',\n",
    "       'state_17', 'state_18', 'state_19', 'state_20', 'state_21', 'state_22',\n",
    "       'state_23', 'state_24', 'state_25', 'state_26', 'state_27', 'state_28',\n",
    "       'state_29', 'state_30', 'state_31', 'state_32', 'state_33', 'state_34',\n",
    "       'state_35', 'state_36', 'state_37', 'state_38', 'state_39', 'state_40',\n",
    "       'state_41', 'state_42', 'state_43', 'state_44', 'state_45', 'state_46',\n",
    "       'state_47', 'state_48', 'state_49', 'state_50', 'time_1', 'time_2',\n",
    "       'time_3', 'time_4', 'time_5', 'time_6', 'time_7', 'time_8', 'time_9',\n",
    "       'time_10', 'time_11', 'time_12', 'time_13', 'time_14', 'time_15',\n",
    "       'time_16', 'time_17', 'time_18', 'time_19']]\n",
    "instrument2 = df[[\"TREATMENT\"]]\n",
    "# Initialize and fit the model\n",
    "initial_params = np.array([0.1] * (len(df['state'].unique()) + len(df['time'].unique()) + 1) * 2)  # Adjust as necessary\n",
    "model = TwoStageGMM(endog, exog, instrument1, instrument2)\n",
    "result = model.fit(start_params=initial_params)\n",
    "\n",
    "# Display results\n",
    "print(result.summary())\n"
   ]
  },
  {
   "cell_type": "code",
   "execution_count": null,
   "metadata": {},
   "outputs": [],
   "source": []
  }
 ],
 "metadata": {
  "kernelspec": {
   "display_name": "base",
   "language": "python",
   "name": "python3"
  },
  "language_info": {
   "codemirror_mode": {
    "name": "ipython",
    "version": 3
   },
   "file_extension": ".py",
   "mimetype": "text/x-python",
   "name": "python",
   "nbconvert_exporter": "python",
   "pygments_lexer": "ipython3",
   "version": "3.11.5"
  }
 },
 "nbformat": 4,
 "nbformat_minor": 2
}
