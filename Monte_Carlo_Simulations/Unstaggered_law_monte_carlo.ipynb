{
 "cells": [
  {
   "cell_type": "code",
   "execution_count": 1,
   "metadata": {},
   "outputs": [],
   "source": [
    "import pandas as pd\n",
    "import numpy as np\n",
    "import statsmodels.api as sm"
   ]
  },
  {
   "cell_type": "code",
   "execution_count": 2,
   "metadata": {},
   "outputs": [],
   "source": [
    "def generate_powercheck_data(N, T, rho, num_individuals, mean=0, std_dev=1):\n",
    "    # Generate random white noise for each individual\n",
    "    white_noise = np.random.normal(mean, std_dev, size=(N, num_individuals, T))\n",
    "\n",
    "    # Initialize the array to store the data\n",
    "    data = np.zeros((N, num_individuals, T))\n",
    "\n",
    "    # Generate the AR(1) process data for each individual\n",
    "    for i in range(N):\n",
    "        for j in range(num_individuals):\n",
    "            for t in range(T):\n",
    "                if t == 0:\n",
    "                    data[i, j, t] = white_noise[i, j, t]\n",
    "                else:\n",
    "                    data[i, j, t] = rho * data[i, j, t - 1] + white_noise[i, j, t]\n",
    "\n",
    "    # Reshape the data array for easier DataFrame creation\n",
    "    reshaped_data = data.reshape((N * num_individuals, T))\n",
    "\n",
    "    # Create a DataFrame with column names as time periods\n",
    "    df = pd.DataFrame(reshaped_data, columns=[f'{t}' for t in range(T)])\n",
    "\n",
    "    # Add a new 'state' column with repeated state values\n",
    "    df['state'] = np.repeat(np.arange(1, N + 1), num_individuals)\n",
    "\n",
    "    # Add a new 'individual' column with repeated individual values\n",
    "    df['individual'] = np.tile(np.arange(1, num_individuals + 1), N)\n",
    "\n",
    "    melted_df = pd.melt(df, id_vars=['state', 'individual'], var_name='time', value_name='value')\n",
    "\n",
    "    # Convert the 'time' column to int\n",
    "    melted_df['time'] = melted_df['time'].astype(int)\n",
    "\n",
    "    data = melted_df.copy()\n",
    "\n",
    "    data['time'] = data['time'].astype(int)\n",
    "    # Create state dummy variables\n",
    "    state_dummies = pd.get_dummies(data['state'], prefix='state', drop_first = True)\n",
    "\n",
    "    # Convert state dummy variables to int\n",
    "    state_dummies = state_dummies.astype(int)\n",
    "\n",
    "    # Create time dummy variables\n",
    "    time_dummies = pd.get_dummies(data['time'].astype(int), prefix='time', drop_first = True)\n",
    "\n",
    "    # Convert time dummy variables to int\n",
    "    time_dummies = time_dummies.astype(int)\n",
    "\n",
    "    data = pd.concat([data, state_dummies, time_dummies], axis=1)\n",
    "\n",
    "    return data"
   ]
  },
  {
   "cell_type": "code",
   "execution_count": 6,
   "metadata": {},
   "outputs": [
    {
     "name": "stdout",
     "output_type": "stream",
     "text": [
      "Number of times null hypothesis is rejected: 75 out of 400 simulations\n"
     ]
    }
   ],
   "source": [
    "# Assuming residuals_mean_by_state_year is your DataFrame with columns like 'Treatment', 'STATEFIP', 'YEAR', 'Residuals'\n",
    "reject_count = 0  # Counter for the number of rejections\n",
    "alpha = 0.05  # Significance level\n",
    "\n",
    "# Monte Carlo simulation for 20 iterations\n",
    "for _ in range(400):\n",
    "\n",
    "    data = generate_powercheck_data(50, 20, 0.44, 20)\n",
    "    # Step 1: Generate random intervention year and selected industries\n",
    "    intervention_year = 10\n",
    "    unique_states = data['state'].unique()\n",
    "    selected_industries = np.random.choice(unique_states, size=len(unique_states) // 2, replace=False)\n",
    "\n",
    "    # Step 2: Create the treatment variable\n",
    "    data['Treatment'] = ((data['state'].isin(selected_industries)) & (data['time'] > intervention_year)).astype(int)\n",
    "\n",
    "    data['outcome'] = data.apply(lambda x: x['value']*(1.02) if x['Treatment'] == 1 else x['value'], axis=1)\n",
    "\n",
    "    # Step 3: Perform the second OLS regression\n",
    "    X_second_regression = data[['Treatment', 'state_2', 'state_3', 'state_4', 'state_5',\n",
    "       'state_6', 'state_7', 'state_8', 'state_9', 'state_10', 'state_11',\n",
    "       'state_12', 'state_13', 'state_14', 'state_15', 'state_16', 'state_17',\n",
    "       'state_18', 'state_19', 'state_20', 'state_21', 'state_22', 'state_23',\n",
    "       'state_24', 'state_25', 'state_26', 'state_27', 'state_28', 'state_29',\n",
    "       'state_30', 'state_31', 'state_32', 'state_33', 'state_34', 'state_35',\n",
    "       'state_36', 'state_37', 'state_38', 'state_39', 'state_40', 'state_41',\n",
    "       'state_42', 'state_43', 'state_44', 'state_45', 'state_46', 'state_47',\n",
    "       'state_48', 'state_49', 'state_50', 'time_1', 'time_2', 'time_3',\n",
    "       'time_4', 'time_5', 'time_6', 'time_7', 'time_8', 'time_9', 'time_10',\n",
    "       'time_11', 'time_12', 'time_13', 'time_14', 'time_15', 'time_16',\n",
    "       'time_17', 'time_18', 'time_19'] ]\n",
    "    \n",
    "    X_second_regression = sm.add_constant(X_second_regression)\n",
    "    Y_second_regression = data['outcome']  # Replace 'outcome' with your dependent variable\n",
    "    model_second_regression = sm.OLS(Y_second_regression, X_second_regression).fit()\n",
    "\n",
    "    # Check if null hypothesis for beta1 is rejected\n",
    "    if model_second_regression.pvalues['Treatment'] < alpha:\n",
    "        reject_count += 1\n",
    "\n",
    "# Print the number of rejections\n",
    "print(f\"Number of times null hypothesis is rejected: {reject_count} out of 400 simulations\")\n"
   ]
  },
  {
   "cell_type": "code",
   "execution_count": null,
   "metadata": {},
   "outputs": [],
   "source": []
  }
 ],
 "metadata": {
  "kernelspec": {
   "display_name": "base",
   "language": "python",
   "name": "python3"
  },
  "language_info": {
   "codemirror_mode": {
    "name": "ipython",
    "version": 3
   },
   "file_extension": ".py",
   "mimetype": "text/x-python",
   "name": "python",
   "nbconvert_exporter": "python",
   "pygments_lexer": "ipython3",
   "version": "3.11.5"
  }
 },
 "nbformat": 4,
 "nbformat_minor": 2
}
