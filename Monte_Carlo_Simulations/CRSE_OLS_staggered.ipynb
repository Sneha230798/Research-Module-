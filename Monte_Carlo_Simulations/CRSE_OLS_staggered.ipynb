{
 "cells": [
  {
   "cell_type": "code",
   "execution_count": 13,
   "metadata": {},
   "outputs": [
    {
     "name": "stdout",
     "output_type": "stream",
     "text": [
      "Number of times null hypothesis is rejected for 0.8: 61 out of 1000 simulations\n",
      "Type 1 Error: 0.061\n",
      "Bias for Coefficient of Treatment (True Value = 0): -0.0009538897255470899\n",
      "MSE for Coefficient of Treatment (True Value = 0): 0.017936663706003973\n"
     ]
    }
   ],
   "source": [
    "import pandas as pd\n",
    "import numpy as np\n",
    "import statsmodels.api as sm\n",
    "\n",
    "from monte_carlo_ar1 import generate_staggered_law_ar1_data\n",
    "\n",
    "np.random.seed(42) \n",
    "\n",
    "\n",
    "beta1_estimates = []\n",
    "reject_count = 0  # Counter for the number of rejections\n",
    "alpha = 0.05  # Significance level\n",
    "rho = 0.8\n",
    "\n",
    "bias_values = []\n",
    "\n",
    "N = 50\n",
    "T = 20\n",
    "true_beta1_value = 0 \n",
    "squared_error_values = []\n",
    "standard_error_values =[]\n",
    "\n",
    "for _ in range(1000):\n",
    "    data = generate_staggered_law_ar1_data( N, T, rho, num_individuals=20)\n",
    "    states = data['state'].unique()\n",
    "\n",
    "    # Randomly select half of the states to be in the treatment group\n",
    "    \n",
    "    treatment_states = np.random.choice(states, size=len(states)//2, replace=False)\n",
    "\n",
    "    # Assign treatment year to each treatment state, staggered between 1985 and 1995\n",
    "    treatment_years = np.random.choice(range(5, 15), size=len(treatment_states), replace=True)\n",
    "    state_to_treatment_year = dict(zip(treatment_states, treatment_years))\n",
    "\n",
    "    # Add a treatment column to the DataFrame\n",
    "    data['TREATMENT'] = data.apply(lambda x: 1 if x['state'] in treatment_states and x['time'] >= state_to_treatment_year[x['state']] else 0, axis=1)\n",
    "\n",
    "    # Step 3: Perform the OLS regression\n",
    "    X = data[['TREATMENT', 'state_2', 'state_3', 'state_4', 'state_5',\n",
    "       'state_6', 'state_7', 'state_8', 'state_9', 'state_10', 'state_11',\n",
    "       'state_12', 'state_13', 'state_14', 'state_15', 'state_16', 'state_17',\n",
    "       'state_18', 'state_19', 'state_20', ]] # plus any other control variables\n",
    "    X = sm.add_constant(X)\n",
    "    Y = data['value'] # Replace 'outcome' with your dependent variable\n",
    "    model = sm.OLS(Y, X).fit(cov_type='cluster', cov_kwds={'groups': data['state'].astype(str)})\n",
    "\n",
    "    bias = model.params['TREATMENT'] - true_beta1_value\n",
    "    \n",
    "    bias_values.append(bias)\n",
    "\n",
    "    squared_error = (model.params['TREATMENT'] - true_beta1_value) ** 2\n",
    "\n",
    "    \n",
    "    standard_error = model.bse['TREATMENT']\n",
    "    standard_error_values.append(standard_error)\n",
    "    beta1_estimates.append(model.params['TREATMENT'])\n",
    "    \n",
    "    \n",
    "    # Check if null hypothesis for beta1 is rejected\n",
    "    if model.pvalues['TREATMENT'] < alpha:\n",
    "        reject_count += 1\n",
    "\n",
    "\n",
    "type1_error = reject_count / 1000\n",
    "\n",
    "average_bias = np.mean(bias_values)\n",
    "average_mse = np.mean(squared_error)   \n",
    "average_rmse = np.sqrt(average_mse)  \n",
    "average_standard_error = np.mean(standard_error_values)   \n",
    "\n",
    "std_error_beta_distribution = np.std(beta1_estimates)\n",
    "\n",
    "\n",
    "\n",
    "type1_error = reject_count / 1000\n",
    "average_bias = np.mean(bias_values)\n",
    "average_mse = np.mean(squared_error)\n",
    "\n",
    "\n",
    "# Print the number of rejections\n",
    "print(f\"Number of times null hypothesis is rejected for {rho}: {reject_count} out of 1000 simulations\")\n",
    "print(f\"Type 1 Error: {type1_error}\")\n",
    "print(f\"Bias for Coefficient of Treatment (True Value = {true_beta1_value}): {average_bias}\")\n",
    "print(f\"MSE for Coefficient of Treatment (True Value = {true_beta1_value}): {average_mse}\")"
   ]
  },
  {
   "cell_type": "code",
   "execution_count": 14,
   "metadata": {},
   "outputs": [
    {
     "data": {
      "text/plain": [
       "0.06004027987454788"
      ]
     },
     "execution_count": 14,
     "metadata": {},
     "output_type": "execute_result"
    }
   ],
   "source": [
    "average_standard_error"
   ]
  },
  {
   "cell_type": "code",
   "execution_count": 15,
   "metadata": {},
   "outputs": [
    {
     "data": {
      "text/plain": [
       "0.06078667192013868"
      ]
     },
     "execution_count": 15,
     "metadata": {},
     "output_type": "execute_result"
    }
   ],
   "source": [
    "std_error_beta_distribution"
   ]
  },
  {
   "cell_type": "code",
   "execution_count": null,
   "metadata": {},
   "outputs": [],
   "source": []
  }
 ],
 "metadata": {
  "kernelspec": {
   "display_name": "base",
   "language": "python",
   "name": "python3"
  },
  "language_info": {
   "codemirror_mode": {
    "name": "ipython",
    "version": 3
   },
   "file_extension": ".py",
   "mimetype": "text/x-python",
   "name": "python",
   "nbconvert_exporter": "python",
   "pygments_lexer": "ipython3",
   "version": "3.11.5"
  }
 },
 "nbformat": 4,
 "nbformat_minor": 2
}
