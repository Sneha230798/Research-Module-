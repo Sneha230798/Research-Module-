{
 "cells": [
  {
   "cell_type": "code",
   "execution_count": 6,
   "metadata": {},
   "outputs": [],
   "source": [
    "from monte_carlo_ar1 import (generate_staggered_law_ar1_data)"
   ]
  },
  {
   "cell_type": "code",
   "execution_count": 4,
   "metadata": {},
   "outputs": [],
   "source": [
    "import pandas as pd\n",
    "import statsmodels.formula.api as sm\n",
    "from wildboottest.wildboottest import wildboottest"
   ]
  },
  {
   "cell_type": "code",
   "execution_count": 8,
   "metadata": {},
   "outputs": [],
   "source": [
    "data = generate_staggered_law_ar1_data(50,20, 0.8, 10)"
   ]
  },
  {
   "cell_type": "code",
   "execution_count": 10,
   "metadata": {},
   "outputs": [
    {
     "data": {
      "text/plain": [
       "Index(['state', 'individual', 'time', 'value', 'state_2', 'state_3', 'state_4',\n",
       "       'state_5', 'state_6', 'state_7', 'state_8', 'state_9', 'state_10',\n",
       "       'state_11', 'state_12', 'state_13', 'state_14', 'state_15', 'state_16',\n",
       "       'state_17', 'state_18', 'state_19', 'state_20', 'state_21', 'state_22',\n",
       "       'state_23', 'state_24', 'state_25', 'state_26', 'state_27', 'state_28',\n",
       "       'state_29', 'state_30', 'state_31', 'state_32', 'state_33', 'state_34',\n",
       "       'state_35', 'state_36', 'state_37', 'state_38', 'state_39', 'state_40',\n",
       "       'state_41', 'state_42', 'state_43', 'state_44', 'state_45', 'state_46',\n",
       "       'state_47', 'state_48', 'state_49', 'state_50', 'time_1', 'time_2',\n",
       "       'time_3', 'time_4', 'time_5', 'time_6', 'time_7', 'time_8', 'time_9',\n",
       "       'time_10', 'time_11', 'time_12', 'time_13', 'time_14', 'time_15',\n",
       "       'time_16', 'time_17', 'time_18', 'time_19', 'TREATMENT'],\n",
       "      dtype='object')"
      ]
     },
     "execution_count": 10,
     "metadata": {},
     "output_type": "execute_result"
    }
   ],
   "source": [
    "data.columns"
   ]
  },
  {
   "cell_type": "code",
   "execution_count": 17,
   "metadata": {},
   "outputs": [
    {
     "name": "stdout",
     "output_type": "stream",
     "text": [
      "Bias: -0.006408901318945441\n",
      "Mean of the estimator: -0.006408901318945441\n",
      "Standard deviation of the estimator: 0.038415162375969224\n",
      "Type 1 error is 0.006\n"
     ]
    }
   ],
   "source": [
    "import pandas as pd\n",
    "import statsmodels.formula.api as sm\n",
    "from wildboottest.wildboottest import wildboottest\n",
    "import numpy as np\n",
    "import matplotlib.pyplot as plt\n",
    "import seaborn as sns\n",
    "\n",
    "np.random.seed(42)\n",
    "\n",
    "beta1_estimates = []\n",
    "reject_count = 0  # Counter for the number of rejections\n",
    "alpha = 0.05  # Significance level\n",
    "num_simulations = 1000\n",
    "num_individuals = 20\n",
    "bias_values = []\n",
    "squared_error_values = []\n",
    "standard_error_values = []  # List to store standard errors\n",
    "N = 50\n",
    "T = 20\n",
    "rho = 0.2\n",
    "true_beta1_value = 0\n",
    "estimated_effects = []\n",
    "\n",
    "for _ in range(1000):   \n",
    "    data = generate_staggered_law_ar1_data(50, 20, 0, 10)\n",
    "    model = sm.ols(formula=\"value ~ TREATMENT + 1 + state_2 + state_3 + state_4 + state_5 + state_6 + state_7 + state_8 + state_9 + state_10 + state_11 + state_12 + state_13 + state_14 + state_15 + state_16 + state_17 + state_18 + state_19 + state_20 + state_21 + state_22 + state_23 + state_24 + state_25 + state_26 + state_27 + state_28 + state_29 + state_30 + state_31 + state_32 + state_33 + state_34 + state_35 + state_36 + state_37 + state_38 + state_39 + state_40 + state_41 + state_42 + state_43 + state_44 + state_45 + state_46 + state_47 + state_48 + state_49 + state_50 + time_1 + time_2 + time_3 + time_4 + time_5 + time_6 + time_7 + time_8 + time_9 + time_10 + time_11 + time_12 + time_13 + time_14 + time_15 + time_16 + time_17 + time_18 + time_19\", data=data)\n",
    "    result = model.fit()\n",
    "    wildboottest_results = wildboottest(model, param=\"TREATMENT\", cluster=data['state'], B=1000, bootstrap_type='11', show = False)\n",
    "    wildboottest_results = pd.DataFrame(wildboottest_results)\n",
    "    p_value = wildboottest_results['p-value'].iloc[0]\n",
    "\n",
    "    if p_value < 0.05:\n",
    "        reject_count += 1\n",
    "\n",
    "    # Store the estimated treatment effect\n",
    "    estimated_effects.append(result.params['TREATMENT'])\n",
    "    # Calculate bias\n",
    "    true_treatment_effect = 0\n",
    "    bias = np.mean(estimated_effects) - true_treatment_effect\n",
    "    squared_error = (model.params['TREATMENT'] - true_beta1_value) ** 2\n",
    "    squared_error_values.append(squared_error)\n",
    "    # Extract the standard error of the 'Treatment' coefficient\n",
    "    standard_error = model.bse['TREATMENT']\n",
    "    standard_error_values.append(standard_error)\n",
    "\n",
    "# Calculate distribution of the estimator\n",
    "estimator_distribution = np.array(estimated_effects)\n",
    "\n",
    "type1_error = reject_count/1000\n",
    "average_bias = np.mean(bias)\n",
    "average_mse = np.mean(squared_error_values)\n",
    "average_standard_error = np.mean(standard_error_values)\n",
    "\n",
    "# Calculate the standard error of the distribution of beta\n",
    "std_error_beta_distribution = np.std(estimator_distribution)\n",
    "\n",
    "sns.histplot(beta1_estimates, kde=True)\n",
    "plt.xlabel('Beta1 Estimates')\n",
    "plt.ylabel('Frequency')\n",
    "plt.title('Distribution of Beta1 Estimates')\n",
    "plt.show()\n",
    "\n",
    "# Calculate the confidence interval\n",
    "confidence_interval = (\n",
    "    np.mean(beta1_estimates) - 1.96 * std_error_beta_distribution,\n",
    "    np.mean(beta1_estimates) + 1.96 * std_error_beta_distribution\n",
    ")\n",
    "\n",
    "# Plot the confidence interval\n",
    "plt.figure(figsize=(10, 6))\n",
    "plt.hist(beta1_estimates, bins=30, density=True, color='blue', alpha=0.7)\n",
    "plt.axvline(np.mean(beta1_estimates), color='red', linestyle='dashed', linewidth=2, label='Mean Estimate')\n",
    "plt.axvline(confidence_interval[0], color='green', linestyle='dashed', linewidth=2, label='95% CI')\n",
    "plt.axvline(confidence_interval[1], color='green', linestyle='dashed', linewidth=2)\n",
    "plt.xlabel('Treatment Coefficient Estimate')\n",
    "plt.ylabel('Density')\n",
    "plt.title('Distribution and Confidence Interval of Treatment Coefficient')\n",
    "plt.legend()\n",
    "plt.show()\n",
    "\n",
    "# Print the results\n",
    "print(f\"Number of times null hypothesis is rejected for: {reject_count} out of {num_simulations} simulations\")\n",
    "print(f\"Type 1 Error: {type1_error}\")\n",
    "print(f\"Bias for Coefficient of Treatment (True Value = {true_beta1_value}): {average_bias}\")\n",
    "print(f\"Average MSE for Coefficient of Treatment (True Value = {true_beta1_value}): {average_mse}\")\n",
    "print(f\"Average Standard Error for Coefficient of Treatment: {average_standard_error}\")\n",
    "print(f\"Standard Error of the Distribution of Beta: {std_error_beta_distribution}\")\n"
   ]
  },
  {
   "cell_type": "code",
   "execution_count": null,
   "metadata": {},
   "outputs": [],
   "source": []
  }
 ],
 "metadata": {
  "kernelspec": {
   "display_name": "base",
   "language": "python",
   "name": "python3"
  },
  "language_info": {
   "codemirror_mode": {
    "name": "ipython",
    "version": 3
   },
   "file_extension": ".py",
   "mimetype": "text/x-python",
   "name": "python",
   "nbconvert_exporter": "python",
   "pygments_lexer": "ipython3",
   "version": "3.11.5"
  }
 },
 "nbformat": 4,
 "nbformat_minor": 2
}
