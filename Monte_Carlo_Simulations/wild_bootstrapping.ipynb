{
 "cells": [
  {
   "cell_type": "code",
   "execution_count": 6,
   "metadata": {},
   "outputs": [],
   "source": [
    "from monte_carlo_ar1 import (generate_staggered_law_ar1_data)"
   ]
  },
  {
   "cell_type": "code",
   "execution_count": 4,
   "metadata": {},
   "outputs": [],
   "source": [
    "import pandas as pd\n",
    "import statsmodels.formula.api as sm\n",
    "from wildboottest.wildboottest import wildboottest"
   ]
  },
  {
   "cell_type": "code",
   "execution_count": 8,
   "metadata": {},
   "outputs": [],
   "source": [
    "data = generate_staggered_law_ar1_data(50,20, 0.8, 10)"
   ]
  },
  {
   "cell_type": "code",
   "execution_count": 10,
   "metadata": {},
   "outputs": [
    {
     "data": {
      "text/plain": [
       "Index(['state', 'individual', 'time', 'value', 'state_2', 'state_3', 'state_4',\n",
       "       'state_5', 'state_6', 'state_7', 'state_8', 'state_9', 'state_10',\n",
       "       'state_11', 'state_12', 'state_13', 'state_14', 'state_15', 'state_16',\n",
       "       'state_17', 'state_18', 'state_19', 'state_20', 'state_21', 'state_22',\n",
       "       'state_23', 'state_24', 'state_25', 'state_26', 'state_27', 'state_28',\n",
       "       'state_29', 'state_30', 'state_31', 'state_32', 'state_33', 'state_34',\n",
       "       'state_35', 'state_36', 'state_37', 'state_38', 'state_39', 'state_40',\n",
       "       'state_41', 'state_42', 'state_43', 'state_44', 'state_45', 'state_46',\n",
       "       'state_47', 'state_48', 'state_49', 'state_50', 'time_1', 'time_2',\n",
       "       'time_3', 'time_4', 'time_5', 'time_6', 'time_7', 'time_8', 'time_9',\n",
       "       'time_10', 'time_11', 'time_12', 'time_13', 'time_14', 'time_15',\n",
       "       'time_16', 'time_17', 'time_18', 'time_19', 'TREATMENT'],\n",
       "      dtype='object')"
      ]
     },
     "execution_count": 10,
     "metadata": {},
     "output_type": "execute_result"
    }
   ],
   "source": [
    "data.columns"
   ]
  },
  {
   "cell_type": "code",
   "execution_count": 15,
   "metadata": {},
   "outputs": [
    {
     "ename": "AttributeError",
     "evalue": "'OLS' object has no attribute 'param'",
     "output_type": "error",
     "traceback": [
      "\u001b[1;31m---------------------------------------------------------------------------\u001b[0m",
      "\u001b[1;31mAttributeError\u001b[0m                            Traceback (most recent call last)",
      "Cell \u001b[1;32mIn[15], line 19\u001b[0m\n\u001b[0;32m     16\u001b[0m         reject_count \u001b[38;5;241m+\u001b[39m\u001b[38;5;241m=\u001b[39m \u001b[38;5;241m1\u001b[39m\n\u001b[0;32m     18\u001b[0m     \u001b[38;5;66;03m# Store the estimated treatment effect\u001b[39;00m\n\u001b[1;32m---> 19\u001b[0m     estimated_effects\u001b[38;5;241m.\u001b[39mappend(model\u001b[38;5;241m.\u001b[39mparam[\u001b[38;5;124m'\u001b[39m\u001b[38;5;124mTREATMENT\u001b[39m\u001b[38;5;124m'\u001b[39m])\n\u001b[0;32m     21\u001b[0m \u001b[38;5;66;03m# Calculate bias\u001b[39;00m\n\u001b[0;32m     22\u001b[0m true_treatment_effect \u001b[38;5;241m=\u001b[39m \u001b[38;5;241m0\u001b[39m\n",
      "\u001b[1;31mAttributeError\u001b[0m: 'OLS' object has no attribute 'param'"
     ]
    }
   ],
   "source": [
    "import numpy as np\n",
    "np.random.seed(42)\n",
    "\n",
    "reject_count = 0\n",
    "estimated_effects = []\n",
    "\n",
    "for _ in range(1000):   \n",
    "    data = generate_staggered_law_ar1_data(50, 20, 0, 10)\n",
    "    model = sm.ols(formula=\"value ~ TREATMENT + 1 + state_2 + state_3 + state_4 + state_5 + state_6 + state_7 + state_8 + state_9 + state_10 + state_11 + state_12 + state_13 + state_14 + state_15 + state_16 + state_17 + state_18 + state_19 + state_20 + state_21 + state_22 + state_23 + state_24 + state_25 + state_26 + state_27 + state_28 + state_29 + state_30 + state_31 + state_32 + state_33 + state_34 + state_35 + state_36 + state_37 + state_38 + state_39 + state_40 + state_41 + state_42 + state_43 + state_44 + state_45 + state_46 + state_47 + state_48 + state_49 + state_50 + time_1 + time_2 + time_3 + time_4 + time_5 + time_6 + time_7 + time_8 + time_9 + time_10 + time_11 + time_12 + time_13 + time_14 + time_15 + time_16 + time_17 + time_18 + time_19\", data=data)\n",
    "\n",
    "    wildboottest_results = wildboottest(model, param=\"TREATMENT\", cluster=data['state'], B=1000, bootstrap_type='11', show = False)\n",
    "    wildboottest_results = pd.DataFrame(wildboottest_results)\n",
    "    p_value = wildboottest_results['p-value'].iloc[0]\n",
    "\n",
    "    if p_value < 0.05:\n",
    "        reject_count += 1\n",
    "\n",
    "    # Store the estimated treatment effect\n",
    "    estimated_effects.append(model.param['TREATMENT'])\n",
    "\n",
    "# Calculate bias\n",
    "true_treatment_effect = 0\n",
    "bias = np.mean(estimated_effects) - true_treatment_effect\n",
    "\n",
    "# Calculate distribution of the estimator\n",
    "estimator_distribution = np.array(estimated_effects)\n",
    "\n",
    "type1_error = reject_count/1000\n",
    "\n",
    "# Analyze the results (e.g., print bias and distribution summary)\n",
    "print(f\"Bias: {bias}\")\n",
    "print(f\"Mean of the estimator: {np.mean(estimator_distribution)}\")\n",
    "print(f\"Standard deviation of the estimator: {np.std(estimator_distribution)}\")\n",
    "print(f\"Type 1 error is {type1_error}\")"
   ]
  },
  {
   "cell_type": "code",
   "execution_count": null,
   "metadata": {},
   "outputs": [],
   "source": []
  }
 ],
 "metadata": {
  "kernelspec": {
   "display_name": "base",
   "language": "python",
   "name": "python3"
  },
  "language_info": {
   "codemirror_mode": {
    "name": "ipython",
    "version": 3
   },
   "file_extension": ".py",
   "mimetype": "text/x-python",
   "name": "python",
   "nbconvert_exporter": "python",
   "pygments_lexer": "ipython3",
   "version": "3.11.5"
  }
 },
 "nbformat": 4,
 "nbformat_minor": 2
}
